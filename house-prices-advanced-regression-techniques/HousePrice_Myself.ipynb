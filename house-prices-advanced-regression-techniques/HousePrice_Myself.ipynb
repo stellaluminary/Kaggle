{
 "cells": [
  {
   "cell_type": "markdown",
   "metadata": {},
   "source": [
    "# HousePrice_Myself"
   ]
  },
  {
   "cell_type": "markdown",
   "metadata": {},
   "source": [
    "Data : House Prices: Advanced Regression Techniques <br>\n",
    "https://www.kaggle.com/c/house-prices-advanced-regression-techniques/data<br>\n"
   ]
  },
  {
   "cell_type": "markdown",
   "metadata": {},
   "source": [
    "SalePrice - the property's sale price in dollars. This is the target variable that you're trying to predict.<br>\n",
    "MSSubClass: The building class<br>\n",
    "MSZoning: The general zoning classification<br>\n",
    "LotFrontage: Linear feet of street connected to property<br>\n",
    "LotArea: Lot size in square feet<br>\n",
    "Street: Type of road access<br>\n",
    "Alley: Type of alley access<br>\n",
    "LotShape: General shape of property<br>\n",
    "LandContour: Flatness of the property<br>\n",
    "Utilities: Type of utilities available<br>\n",
    "LotConfig: Lot configuration<br>\n",
    "LandSlope: Slope of property<br>\n",
    "Neighborhood: Physical locations within Ames city limits<br>\n",
    "Condition1: Proximity to main road or railroad<br>\n",
    "Condition2: Proximity to main road or railroad (if a second is present)<br>\n",
    "BldgType: Type of dwelling<br>\n",
    "HouseStyle: Style of dwelling<br>\n",
    "OverallQual: Overall material and finish quality<br>\n",
    "OverallCond: Overall condition rating<br>\n",
    "YearBuilt: Original construction date<br>\n",
    "YearRemodAdd: Remodel date<br>\n",
    "RoofStyle: Type of roof<br>\n",
    "RoofMatl: Roof material<br>\n",
    "Exterior1st: Exterior covering on house<br>\n",
    "Exterior2nd: Exterior covering on house (if more than one material)<br>\n",
    "MasVnrType: Masonry veneer type<br>\n",
    "MasVnrArea: Masonry veneer area in square feet<br>\n",
    "ExterQual: Exterior material quality<br>\n",
    "ExterCond: Present condition of the material on the exterior<br>\n",
    "Foundation: Type of foundation<br>\n",
    "BsmtQual: Height of the basement<br>\n",
    "BsmtCond: General condition of the basement<br>\n",
    "BsmtExposure: Walkout or garden level basement walls<br>\n",
    "BsmtFinType1: Quality of basement finished area<br>\n",
    "BsmtFinSF1: Type 1 finished square feet<br>\n",
    "BsmtFinType2: Quality of second finished area (if present)<br>\n",
    "BsmtFinSF2: Type 2 finished square feet<br>\n",
    "BsmtUnfSF: Unfinished square feet of basement area<br>\n",
    "TotalBsmtSF: Total square feet of basement area<br>\n",
    "Heating: Type of heating<br>\n",
    "HeatingQC: Heating quality and condition<br>\n",
    "CentralAir: Central air conditioning<br>\n",
    "Electrical: Electrical system<br>\n",
    "1stFlrSF: First Floor square feet<br>\n",
    "2ndFlrSF: Second floor square feet<br>\n",
    "LowQualFinSF: Low quality finished square feet (all floors)<br>\n",
    "GrLivArea: Above grade (ground) living area square feet<br>\n",
    "BsmtFullBath: Basement full bathrooms<br>\n",
    "BsmtHalfBath: Basement half bathrooms<br>\n",
    "FullBath: Full bathrooms above grade<br>\n",
    "HalfBath: Half baths above grade<br>\n",
    "Bedroom: Number of bedrooms above basement level<br>\n",
    "Kitchen: Number of kitchens<br>\n",
    "KitchenQual: Kitchen quality<br>\n",
    "TotRmsAbvGrd: Total rooms above grade (does not include bathrooms)<br>\n",
    "Functional: Home functionality rating<br>\n",
    "Fireplaces: Number of fireplaces<br>\n",
    "FireplaceQu: Fireplace quality<br>\n",
    "GarageType: Garage location<br>\n",
    "GarageYrBlt: Year garage was built<br>\n",
    "GarageFinish: Interior finish of the garage<br>\n",
    "GarageCars: Size of garage in car capacity<br>\n",
    "GarageArea: Size of garage in square feet<br>\n",
    "GarageQual: Garage quality<br>\n",
    "GarageCond: Garage condition<br>\n",
    "PavedDrive: Paved driveway<br>\n",
    "WoodDeckSF: Wood deck area in square feet<br>\n",
    "OpenPorchSF: Open porch area in square feet<br>\n",
    "EnclosedPorch: Enclosed porch area in square feet<br>\n",
    "3SsnPorch: Three season porch area in square feet<br>\n",
    "ScreenPorch: Screen porch area in square feet<br>\n",
    "PoolArea: Pool area in square feet<br>\n",
    "PoolQC: Pool quality<br>\n",
    "Fence: Fence quality<br>\n",
    "MiscFeature: Miscellaneous feature not covered in other categories<br>\n",
    "MiscVal: $Value of miscellaneous feature<br>\n",
    "MoSold: Month Sold<br>\n",
    "YrSold: Year Sold<br>\n",
    "SaleType: Type of sale<br>\n",
    "SaleCondition: Condition of sale<br>"
   ]
  },
  {
   "cell_type": "code",
   "execution_count": 1,
   "metadata": {},
   "outputs": [
    {
     "ename": "ModuleNotFoundError",
     "evalue": "No module named 'mlxtend'",
     "output_type": "error",
     "traceback": [
      "\u001b[1;31m---------------------------------------------------------------------------\u001b[0m",
      "\u001b[1;31mModuleNotFoundError\u001b[0m                       Traceback (most recent call last)",
      "\u001b[1;32m<ipython-input-1-7d50d98c1b76>\u001b[0m in \u001b[0;36m<module>\u001b[1;34m\u001b[0m\n\u001b[0;32m     15\u001b[0m \u001b[1;32mfrom\u001b[0m \u001b[0msklearn\u001b[0m\u001b[1;33m.\u001b[0m\u001b[0mmetrics\u001b[0m \u001b[1;32mimport\u001b[0m \u001b[0mmean_squared_error\u001b[0m\u001b[1;33m\u001b[0m\u001b[1;33m\u001b[0m\u001b[0m\n\u001b[0;32m     16\u001b[0m \u001b[1;33m\u001b[0m\u001b[0m\n\u001b[1;32m---> 17\u001b[1;33m \u001b[1;32mfrom\u001b[0m \u001b[0mmlxtend\u001b[0m\u001b[1;33m.\u001b[0m\u001b[0mregressor\u001b[0m \u001b[1;32mimport\u001b[0m \u001b[0mStackingCVRegressor\u001b[0m\u001b[1;33m\u001b[0m\u001b[1;33m\u001b[0m\u001b[0m\n\u001b[0m\u001b[0;32m     18\u001b[0m \u001b[1;33m\u001b[0m\u001b[0m\n\u001b[0;32m     19\u001b[0m \u001b[1;32mfrom\u001b[0m \u001b[0mxgboost\u001b[0m \u001b[1;32mimport\u001b[0m \u001b[0mXGBRegressor\u001b[0m\u001b[1;33m\u001b[0m\u001b[1;33m\u001b[0m\u001b[0m\n",
      "\u001b[1;31mModuleNotFoundError\u001b[0m: No module named 'mlxtend'"
     ]
    }
   ],
   "source": [
    "import numpy as np  # linear algebra\n",
    "import pandas as pd  #\n",
    "from datetime import datetime\n",
    "\n",
    "from scipy.stats import skew  # for some statistics\n",
    "from scipy.special import boxcox1p\n",
    "from scipy.stats import boxcox_normmax\n",
    "\n",
    "from sklearn.linear_model import ElasticNetCV, LassoCV, RidgeCV\n",
    "from sklearn.ensemble import GradientBoostingRegressor\n",
    "from sklearn.svm import SVR\n",
    "from sklearn.pipeline import make_pipeline\n",
    "from sklearn.preprocessing import RobustScaler\n",
    "from sklearn.model_selection import KFold, cross_val_score\n",
    "from sklearn.metrics import mean_squared_error\n",
    "\n",
    "from mlxtend.regressor import StackingCVRegressor\n",
    "\n",
    "from xgboost import XGBRegressor\n",
    "from lightgbm import LGBMRegressor\n",
    "\n",
    "import os"
   ]
  },
  {
   "cell_type": "code",
   "execution_count": null,
   "metadata": {},
   "outputs": [],
   "source": [
    "train = pd.read_csv('E:\\\\kaggle\\\\house-prices-advanced-regression-techniques\\\\train.csv')\n",
    "test = pd.read_csv('E:\\\\kaggle\\\\house-prices-advanced-regression-techniques\\\\test.csv')\n",
    "print('Train set size : ', train.shape)\n",
    "print('Train set size : ', test.shape)"
   ]
  },
  {
   "cell_type": "code",
   "execution_count": null,
   "metadata": {},
   "outputs": [],
   "source": []
  }
 ],
 "metadata": {
  "kernelspec": {
   "display_name": "py36",
   "language": "python",
   "name": "py36"
  },
  "language_info": {
   "codemirror_mode": {
    "name": "ipython",
    "version": 3
   },
   "file_extension": ".py",
   "mimetype": "text/x-python",
   "name": "python",
   "nbconvert_exporter": "python",
   "pygments_lexer": "ipython3",
   "version": "3.6.8"
  }
 },
 "nbformat": 4,
 "nbformat_minor": 2
}
