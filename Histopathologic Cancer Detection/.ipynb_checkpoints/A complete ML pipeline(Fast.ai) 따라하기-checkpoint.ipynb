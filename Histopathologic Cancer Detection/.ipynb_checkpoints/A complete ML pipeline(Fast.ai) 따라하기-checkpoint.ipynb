{
 "cells": [
  {
   "cell_type": "markdown",
   "metadata": {},
   "source": [
    "# Histopathologic Cancer Detection\n",
    "## A complete ML pipeline(Fast.ai) 따라하기\n",
    "https://www.kaggle.com/qitvision/a-complete-ml-pipeline-fast-ai\n",
    "\n",
    "## Sections of this kernel\n",
    " 1. Project understanding\n",
    " - Data understanding\n",
    " - Data Visualization\n",
    " - Baseline model (Fastai v1)\n",
    " - Validation and analysis\n",
    "  - Metrics\n",
    "  - Prediction and activation Visualization\n",
    "  - ROC & AUC\n",
    " - Submit\n",
    " - Deploy(example)\n",
    " \n",
    "<font color='blue'>deploy 1. (군대·무기를) 배치하다   2. 효율적으로 사용하다</font>"
   ]
  },
  {
   "cell_type": "markdown",
   "metadata": {},
   "source": [
    "# 1. Project understanidng\n",
    "\n",
    "Binary image classification problem.\n",
    "96 x 96px digital histopathology images.\n",
    "### How would a solution look like?\n",
    "Our evaluation metric is area under the ROC curve."
   ]
  },
  {
   "cell_type": "markdown",
   "metadata": {},
   "source": [
    "cf) \n",
    "ROC(Receiver Operating Characteristic) Curve <br>\n",
    "=> 수신기 조작 특성 곡선 (2진 분류에서 많이 사용)<br><br>\n",
    "<br><font size=5>\n",
    "$ROC = \\frac{TPR}{FPR}$<br><br>\n",
    "$TPR(True Positive Rate) = Recall(재현율) = \\frac{TP}{TP + FN}$<br><br>\n",
    "$FPR(False Positive Rate) = \\frac{FP}{FP + TN} = \\frac{FP + TN - TN}{FP + TN} = 1- \\frac{TN}{FP + TN} = 1 - TNR$<br><br>\n",
    " \n",
    "<table class=\"tg\">\n",
    "  <tr>\n",
    "    <th class=\"tg-c3ow\"></th>\n",
    "    <th class=\"tg-c3ow\"></th>\n",
    "    <th class=\"tg-c3ow\">예측</th>\n",
    "    <th class=\"tg-c3ow\"></th>\n",
    "  </tr>\n",
    "  <tr>\n",
    "    <td class=\"tg-c3ow\"></td>\n",
    "    <td class=\"tg-c3ow\"></td>\n",
    "    <td class=\"tg-c3ow\">음성</td>\n",
    "    <td class=\"tg-c3ow\">양성</td>\n",
    "  </tr>\n",
    "  <tr>\n",
    "    <td class=\"tg-c3ow\"><b>실제</b></td>\n",
    "    <td class=\"tg-c3ow\">음성</td>\n",
    "    <td class=\"tg-c3ow\">TN(True Negative)</td>\n",
    "    <td class=\"tg-c3ow\">FP(False Positive)</td>\n",
    "  </tr>\n",
    "  <tr>\n",
    "    <td class=\"tg-c3ow\"></td>\n",
    "    <td class=\"tg-c3ow\">양성</td>\n",
    "    <td class=\"tg-c3ow\">FN(False Negative)</td>\n",
    "    <td class=\"tg-c3ow\">TP(True Positive)</td>\n",
    "  </tr>\n",
    "</table>\n",
    "<br><br>\n",
    "</font>\n",
    "$Precision = \\frac{TP}{TP + FP}$<br><br>\n",
    "\n",
    "TPR이 높을 수록 FPR이 늘어난다.<br>\n",
    "좋은 분류기는 완전한 랜덤 분류기 y=x 그래프로부터 최대한 멀리 떨어져야 한다.(왼쪽 위 모서리에 바짝 붙음)<br>\n",
    "AUC(Area Under the Curve) : 곡선 아래 면적<br>\n",
    "완벽한 분류기는 ROC의 AUC = 1<br>\n",
    "완전한 랜덤 분류기 = 0.5<br>\n",
    "<br><br><br><br><br><br><br><br><br><br><br><br><br>\n",
    "\n",
    "\n"
   ]
  },
  {
   "cell_type": "markdown",
   "metadata": {},
   "source": [
    "## What is known about the domain?\n",
    "The histopathological images are glass slide microscope images of lymph nodes that are stained with hematoxylin and eosin (H&E).\n",
    "\n",
    "<font color='blue'>stain with …로 더럽히다<br>\n",
    "hematoxylin(헤마톡실린) : 세포핵을 얼룩지게 하기 때문에 여전히 염색 조직 제조에 있어 매우 중요하다. 헤마톡실린은 또한 분석 화학에서 매우 중요하며 색체 검출과 다양한 금속과 암모니아의 정량 분석에 사용된다.<br>\n",
    "\n",
    "hematoxylin and eosin(헤마톡실린-에오신) : 조직 관찰을 위한 염색색소로, 핵은 헤마톡실린에 의해 남색으로, 세포질은 에오신에 의해 담홍색으로 염색된다.\n",
    "<br>\n",
    "sentinel lymph node (감시림프절) : primary tumor에서 lympathic drainage를 받는 첫번째 lymph node. 종양이 있는 부위에서 림프절로 림프액이 나가는 길을 따라 갔을 때 있는 첫번째 림프절. 왜 중요하냐 하면 이것을 보고 수술을 어떻게 할까를 결정하는데 도움이 되기 떄문입니다.\n",
    "</font>"
   ]
  },
  {
   "cell_type": "markdown",
   "metadata": {},
   "source": [
    "## Useful links for background knowledge\n",
    "\n",
    "- Patch Camelyon (PCam) : https://github.com/basveeling/pcam\n",
    "- Hematoxylin and eosin staining of tissue and cell sections : https://www.ncbi.nlm.nih.gov/pubmed/21356829\n",
    "- H&E-stained sentinel lymph node sections of breast cancer patients: the CAMELYON dataset\n",
    "  - https://academic.oup.com/gigascience/article/7/6/giy065/5026175\n",
    "- CAMELYON16 - background : https://camelyon16.grand-challenge.org/Background/\n",
    "- CAMELYON17 - background : https://camelyon17.grand-challenge.org/Background/\n",
    "- TNM classification : https://www.uicc.org/resources/tnm"
   ]
  },
  {
   "cell_type": "markdown",
   "metadata": {},
   "source": [
    "# 2. Data understanding\n",
    "## What data do we have available?\n",
    "220k training images and 57k evaluation images. The dataset is a subset of the PCam dataset and the only difference between these two is that all duplicate images have been removed."
   ]
  },
  {
   "cell_type": "code",
   "execution_count": null,
   "metadata": {},
   "outputs": [],
   "source": []
  },
  {
   "cell_type": "code",
   "execution_count": null,
   "metadata": {},
   "outputs": [],
   "source": [
    "<font color='blue'>"
   ]
  }
 ],
 "metadata": {
  "kernelspec": {
   "display_name": "tf_gpu",
   "language": "python",
   "name": "tf_gpu"
  },
  "language_info": {
   "codemirror_mode": {
    "name": "ipython",
    "version": 3
   },
   "file_extension": ".py",
   "mimetype": "text/x-python",
   "name": "python",
   "nbconvert_exporter": "python",
   "pygments_lexer": "ipython3",
   "version": "3.6.8"
  }
 },
 "nbformat": 4,
 "nbformat_minor": 2
}
